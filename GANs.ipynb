{
 "cells": [
  {
   "cell_type": "markdown",
   "id": "6a48930c",
   "metadata": {},
   "source": [
    "# GANs (Generative Adversarial Networks) From Scratch"
   ]
  },
  {
   "cell_type": "markdown",
   "id": "13e1fa95",
   "metadata": {},
   "source": [
    "#### Understand the Basic Concept:\n",
    "\n",
    "A GAN consists of two neural networks: a Generator and a Discriminator.\n",
    "- The Generator creates fake data (e.g., images).\n",
    "- The Discriminator tries to distinguish between real and fake data.\n",
    "- The two networks are trained together in a way that the Generator gets better at creating realistic data, while the Discriminator gets better at spotting fakes."
   ]
  },
  {
   "cell_type": "code",
   "execution_count": 2,
   "id": "9504aa6e",
   "metadata": {
    "scrolled": true
   },
   "outputs": [],
   "source": [
    "import tensorflow as tf\n",
    "from tensorflow.keras import layers\n",
    "import numpy as np\n",
    "import matplotlib.pyplot as plt"
   ]
  },
  {
   "cell_type": "markdown",
   "id": "415a0f1f-06f7-4149-a3a0-d68fb879de5a",
   "metadata": {},
   "source": [
    "#### Design the Generator and Discriminator:\n",
    "\n"
   ]
  },
  {
   "cell_type": "code",
   "execution_count": 3,
   "id": "20f1a191-9ef2-4b0f-9a7b-54481d01121d",
   "metadata": {},
   "outputs": [],
   "source": [
    "# Hyperparameters\n",
    "latent_dim = 100\n",
    "batch_size = 64\n",
    "epochs = 10"
   ]
  },
  {
   "cell_type": "markdown",
   "id": "b26af89c-f348-48b3-8098-ce6ac630818f",
   "metadata": {},
   "source": [
    "- The Generator network usually uses deconvolutional layers to generate images from random noise.\n"
   ]
  },
  {
   "cell_type": "code",
   "execution_count": 4,
   "id": "9108c1de-d51c-4d4c-8f8c-ecf33e8e052d",
   "metadata": {},
   "outputs": [],
   "source": [
    "# Generator Model\n",
    "def build_generator():\n",
    "    model = tf.keras.Sequential([\n",
    "        layers.Dense(256, input_dim=latent_dim),\n",
    "        layers.LeakyReLU(alpha=0.2),\n",
    "        layers.BatchNormalization(momentum=0.8),\n",
    "        layers.Dense(512),\n",
    "        layers.LeakyReLU(alpha=0.2),\n",
    "        layers.BatchNormalization(momentum=0.8),\n",
    "        layers.Dense(1024),\n",
    "        layers.LeakyReLU(alpha=0.2),\n",
    "        layers.BatchNormalization(momentum=0.8),\n",
    "        layers.Dense(28 * 28 * 1, activation='tanh'),\n",
    "        layers.Reshape((28, 28, 1))\n",
    "    ])\n",
    "    return model"
   ]
  },
  {
   "cell_type": "markdown",
   "id": "252b7ad3-dd2d-424c-9f35-45fcb0273a5f",
   "metadata": {},
   "source": [
    "- The Discriminator is a typical convolutional neural network (CNN) that tries to classify input images as real or fake."
   ]
  },
  {
   "cell_type": "code",
   "execution_count": 5,
   "id": "4a44d016-db00-4a1a-9079-efea8fb515ae",
   "metadata": {},
   "outputs": [],
   "source": [
    "# Discriminator Model\n",
    "def build_discriminator():\n",
    "    model = tf.keras.Sequential([\n",
    "        layers.Flatten(input_shape=(28, 28, 1)),\n",
    "        layers.Dense(512),\n",
    "        layers.LeakyReLU(alpha=0.2),\n",
    "        layers.Dense(256),\n",
    "        layers.LeakyReLU(alpha=0.2),\n",
    "        layers.Dense(1, activation='sigmoid')\n",
    "    ])\n",
    "    return model"
   ]
  },
  {
   "cell_type": "markdown",
   "id": "128224a6-2271-4b59-96d5-a117455f5f60",
   "metadata": {},
   "source": []
  },
  {
   "cell_type": "code",
   "execution_count": null,
   "id": "b3a28bc8-a20e-48ce-b716-d35d99e76112",
   "metadata": {},
   "outputs": [],
   "source": []
  },
  {
   "cell_type": "code",
   "execution_count": null,
   "id": "f48050d8-cf4c-4e28-8e31-9fff64ad7948",
   "metadata": {},
   "outputs": [],
   "source": []
  },
  {
   "cell_type": "code",
   "execution_count": null,
   "id": "36e19886-f71c-4a0e-aa51-2c3a0ce2a233",
   "metadata": {},
   "outputs": [],
   "source": []
  },
  {
   "cell_type": "code",
   "execution_count": 52,
   "id": "21c5b233-f83e-47ac-bc21-1df4d2a1a073",
   "metadata": {},
   "outputs": [],
   "source": []
  },
  {
   "cell_type": "code",
   "execution_count": 3,
   "id": "7dc73a23-d754-47f2-a340-8f18e501e9c3",
   "metadata": {},
   "outputs": [
    {
     "data": {
      "text/plain": [
       "(60000, 28, 28, 1)"
      ]
     },
     "execution_count": 3,
     "metadata": {},
     "output_type": "execute_result"
    }
   ],
   "source": [
    "import tensorflow as tf\n",
    "from tensorflow.keras import layers\n",
    "import numpy as np\n",
    "import matplotlib.pyplot as plt\n",
    "\n",
    "\n",
    "(train_images, _), (_, _) = tf.keras.datasets.mnist.load_data()\n",
    "\n",
    "train_images = train_images / 255.0  # Normalize to [0, 1]\n",
    "train_images = np.expand_dims(train_images, axis=-1)  # Add channel dimension\n",
    "\n",
    "train_images.shape"
   ]
  },
  {
   "cell_type": "code",
   "execution_count": 4,
   "id": "76164719-a157-40d3-8801-ef19a87db595",
   "metadata": {},
   "outputs": [],
   "source": [
    "def build_generator():\n",
    "    model = tf.keras.Sequential([\n",
    "        layers.Dense(128, activation='relu', input_shape=(100,)),\n",
    "        layers.Dense(784, activation='sigmoid'),\n",
    "        layers.Reshape((28, 28, 1))\n",
    "    ])\n",
    "    return model"
   ]
  },
  {
   "cell_type": "code",
   "execution_count": 5,
   "id": "654a27a0-71a6-4ade-8904-8aa22c94a339",
   "metadata": {},
   "outputs": [],
   "source": [
    "def build_discriminator():\n",
    "    model = tf.keras.Sequential([\n",
    "        layers.Flatten(input_shape=(28, 28, 1)),\n",
    "        layers.Dense(128, activation='relu'),\n",
    "        layers.Dense(1, activation='sigmoid')\n",
    "    ])\n",
    "    return model"
   ]
  },
  {
   "cell_type": "code",
   "execution_count": 6,
   "id": "bac930e6-c7f0-4751-a95e-072924f5939c",
   "metadata": {},
   "outputs": [],
   "source": [
    "generator = build_generator()\n",
    "discriminator = build_discriminator()\n",
    "\n",
    "discriminator.compile(optimizer='adam', loss='binary_crossentropy', metrics=['accuracy'])"
   ]
  },
  {
   "cell_type": "code",
   "execution_count": 7,
   "id": "28d70d92-adb9-48f4-8e84-aaeae3388064",
   "metadata": {},
   "outputs": [],
   "source": [
    "def train_gan(epochs, batch_size):\n",
    "    \n",
    "    for epoch in range(epochs):\n",
    "        \n",
    "        # Train Discriminator\n",
    "        for _ in range(batch_size):\n",
    "            noise = np.random.normal(0, 1, size=[batch_size, 100])\n",
    "            generated_images = generator.predict(noise)\n",
    "            real_images = train_images[np.random.randint(0, train_images.shape[0], size=batch_size)]\n",
    "            \n",
    "            X = np.concatenate([real_images, generated_images])\n",
    "            y_dis = np.zeros(2 * batch_size)\n",
    "            y_dis[:batch_size] = 1  # Label real images as 1\n",
    "            \n",
    "            discriminator.train_on_batch(X, y_dis)\n",
    "\n",
    "        # Train Generator\n",
    "        noise = np.random.normal(0, 1, size=[batch_size, 100])\n",
    "        y_gen = np.ones(batch_size)  # Label generated images as 1\n",
    "        discriminator.trainable = False  # Freeze the Discriminator\n",
    "        gan_loss = gan.train_on_batch(noise, y_gen)\n",
    "        discriminator.trainable = True  # Unfreeze the Discriminator\n",
    "\n",
    "        if epoch % 100 == 0:\n",
    "            print(f'Epoch {epoch}, GAN Loss: {gan_loss}')\n"
   ]
  },
  {
   "cell_type": "code",
   "execution_count": 8,
   "id": "9f98bb3c-f62e-451e-8d0d-862773372ff7",
   "metadata": {},
   "outputs": [],
   "source": [
    "def generate_images(num_images):\n",
    "    noise = np.random.normal(0, 1, size=[num_images, 100])\n",
    "    generated_images = generator.predict(noise)\n",
    "    return generated_images\n",
    "\n"
   ]
  },
  {
   "cell_type": "code",
   "execution_count": 9,
   "id": "4194cd78-4fb8-4679-b56f-fb36150d42de",
   "metadata": {},
   "outputs": [
    {
     "data": {
      "text/plain": [
       "<matplotlib.image.AxesImage at 0x1a94b11bb80>"
      ]
     },
     "execution_count": 9,
     "metadata": {},
     "output_type": "execute_result"
    },
    {
     "ename": "",
     "evalue": "",
     "output_type": "error",
     "traceback": [
      "\u001b[1;31mThe Kernel crashed while executing code in the current cell or a previous cell. \n",
      "\u001b[1;31mPlease review the code in the cell(s) to identify a possible cause of the failure. \n",
      "\u001b[1;31mClick <a href='https://aka.ms/vscodeJupyterKernelCrash'>here</a> for more info. \n",
      "\u001b[1;31mView Jupyter <a href='command:jupyter.viewOutput'>log</a> for further details."
     ]
    }
   ],
   "source": [
    "plt.imshow(train_images[0],'gray')"
   ]
  },
  {
   "cell_type": "code",
   "execution_count": null,
   "id": "226db385-90e5-48bc-9505-79e51341a5f5",
   "metadata": {},
   "outputs": [],
   "source": []
  }
 ],
 "metadata": {
  "kernelspec": {
   "display_name": "Python 3 (ipykernel)",
   "language": "python",
   "name": "python3"
  },
  "language_info": {
   "codemirror_mode": {
    "name": "ipython",
    "version": 3
   },
   "file_extension": ".py",
   "mimetype": "text/x-python",
   "name": "python",
   "nbconvert_exporter": "python",
   "pygments_lexer": "ipython3",
   "version": "3.10.13"
  }
 },
 "nbformat": 4,
 "nbformat_minor": 5
}
